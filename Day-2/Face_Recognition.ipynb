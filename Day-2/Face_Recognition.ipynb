{
 "cells": [
  {
   "cell_type": "code",
   "execution_count": 1,
   "metadata": {},
   "outputs": [],
   "source": [
    "import os\n",
    "import matplotlib.pyplot as plt\n",
    "import numpy as np"
   ]
  },
  {
   "cell_type": "code",
   "execution_count": 2,
   "metadata": {},
   "outputs": [],
   "source": [
    "# Mapping between names & labels\n",
    "idx2name = {\n",
    "}\n",
    "files = os.listdir()\n",
    "pics = []\n",
    "Y = []\n",
    "\n",
    "cnt = 0\n",
    "\n",
    "for f in files:\n",
    "    if f.endswith(\".npy\"):\n",
    "        data = np.load(f)\n",
    "        labels = np.ones(data.shape[0],dtype='int32')*cnt\n",
    "        pics.append(data)\n",
    "        idx2name[cnt] = f[:-4] \n",
    "        cnt += 1\n",
    "        Y.append(labels)"
   ]
  },
  {
   "cell_type": "code",
   "execution_count": 3,
   "metadata": {},
   "outputs": [
    {
     "name": "stdout",
     "output_type": "stream",
     "text": [
      "(40, 100, 100, 3)\n"
     ]
    }
   ],
   "source": [
    "X = np.vstack(pics)\n",
    "print(X.shape)"
   ]
  },
  {
   "cell_type": "code",
   "execution_count": 4,
   "metadata": {},
   "outputs": [
    {
     "data": {
      "text/plain": [
       "(40,)"
      ]
     },
     "execution_count": 4,
     "metadata": {},
     "output_type": "execute_result"
    }
   ],
   "source": [
    "Y = np.asarray(Y)\n",
    "Y = Y.reshape((40,))\n",
    "Y.shape"
   ]
  },
  {
   "cell_type": "code",
   "execution_count": 5,
   "metadata": {},
   "outputs": [
    {
     "data": {
      "text/plain": [
       "((40, 100, 100, 3), (40,))"
      ]
     },
     "execution_count": 5,
     "metadata": {},
     "output_type": "execute_result"
    }
   ],
   "source": [
    "X.shape,Y.shape"
   ]
  },
  {
   "cell_type": "code",
   "execution_count": 6,
   "metadata": {},
   "outputs": [
    {
     "data": {
      "text/plain": [
       "{0: 'ankit', 1: 'prateek'}"
      ]
     },
     "execution_count": 6,
     "metadata": {},
     "output_type": "execute_result"
    }
   ],
   "source": [
    "idx2name"
   ]
  },
  {
   "cell_type": "code",
   "execution_count": 7,
   "metadata": {},
   "outputs": [],
   "source": [
    "def dist(a,b):\n",
    "    return np.sum((a-b)**2)**.5    \n",
    "\n",
    "def knn(X,Y,test_point,k=5):\n",
    "    \n",
    "    # 1 Step - Find dist of test_point from all points\n",
    "    d = []\n",
    "    m = X.shape[0]\n",
    "    \n",
    "    for i in range(m):\n",
    "        current_dis = dist(X[i],test_point)\n",
    "        d.append((current_dis,Y[i]))\n",
    "    \n",
    "    # Sort\n",
    "    d.sort()\n",
    "    \n",
    "    # Take the first k elements after sorting (slicing)\n",
    "    d = np.array(d[0:k])\n",
    "    d = d[:,1]\n",
    "    uniq,occ = np.unique(d,return_counts=True)\n",
    "    #print(uniq,occ)\n",
    "    idx = np.argmax(occ)\n",
    "    pred = uniq[idx]\n",
    "    \n",
    "    return idx2name[int(pred)]"
   ]
  },
  {
   "cell_type": "code",
   "execution_count": 8,
   "metadata": {},
   "outputs": [],
   "source": [
    "#test_point = X[5]"
   ]
  },
  {
   "cell_type": "code",
   "execution_count": 9,
   "metadata": {},
   "outputs": [],
   "source": [
    "import cv2\n",
    "import numpy as np\n",
    "\n",
    "camera = cv2.VideoCapture(0)\n",
    "facedetector = cv2.CascadeClassifier('../Day-1/face_template.xml')\n",
    "\n",
    "\n",
    "\n",
    "while True:\n",
    "    b,img = camera.read()\n",
    "    \n",
    "    if b==False:\n",
    "        continue\n",
    "    # Detect Faces\n",
    "    faces = facedetector.detectMultiScale(img,1.2,5)\n",
    "    \n",
    "    # No face is detected\n",
    "    if(len(faces)==0):\n",
    "        continue\n",
    "\n",
    "    \n",
    "    # Draw bounding box around each face\n",
    "    for f in faces:\n",
    "        x,y,w,h = f\n",
    "        green = (0,255,0)\n",
    "        cv2.rectangle(img,(x,y),(x+w,y+h),green,5)\n",
    "        \n",
    "        # Get the Pred for Cropped Face\n",
    "        cropped_face = img[y:y+h,x:x+w]\n",
    "        cropped_face = cv2.resize(cropped_face,(100,100))\n",
    "        pred = knn(X,Y,cropped_face)\n",
    "        cv2.putText(img, pred, (x,y-20), cv2.FONT_HERSHEY_SIMPLEX, 1.0, (255, 255, 255), lineType=cv2.LINE_AA) \n",
    "    \n",
    "    # Show the New Image\n",
    "    cv2.imshow(\"Title\",img)\n",
    "    #Add some delay 1 ms between 2 frames\n",
    "    key = cv2.waitKey(1)&0xFF\n",
    "    if key==ord('q'):\n",
    "        break\n",
    "\n",
    "camera.release()\n",
    "cv2.destroyAllWindows()\n"
   ]
  },
  {
   "cell_type": "code",
   "execution_count": null,
   "metadata": {},
   "outputs": [],
   "source": []
  },
  {
   "cell_type": "code",
   "execution_count": null,
   "metadata": {},
   "outputs": [],
   "source": []
  }
 ],
 "metadata": {
  "kernelspec": {
   "display_name": "Python 3",
   "language": "python",
   "name": "python3"
  },
  "language_info": {
   "codemirror_mode": {
    "name": "ipython",
    "version": 3
   },
   "file_extension": ".py",
   "mimetype": "text/x-python",
   "name": "python",
   "nbconvert_exporter": "python",
   "pygments_lexer": "ipython3",
   "version": "3.7.3"
  }
 },
 "nbformat": 4,
 "nbformat_minor": 2
}
