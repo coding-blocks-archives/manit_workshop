{
 "cells": [
  {
   "cell_type": "code",
   "execution_count": 8,
   "metadata": {},
   "outputs": [
    {
     "name": "stdout",
     "output_type": "stream",
     "text": [
      "Hello World!\n",
      "10\n"
     ]
    }
   ],
   "source": [
    "# Output\n",
    "print(\"Hello World!\")\n",
    "\n",
    "# Variable and init with 10\n",
    "a = 10\n",
    "print(a)\n",
    "\n",
    "# Execute any cell - Shift + Enter"
   ]
  },
  {
   "cell_type": "code",
   "execution_count": 5,
   "metadata": {},
   "outputs": [
    {
     "name": "stdout",
     "output_type": "stream",
     "text": [
      "<class 'int'>\n"
     ]
    }
   ],
   "source": [
    "print(type(a))"
   ]
  },
  {
   "cell_type": "code",
   "execution_count": 10,
   "metadata": {},
   "outputs": [
    {
     "name": "stdout",
     "output_type": "stream",
     "text": [
      "<class 'str'>\n"
     ]
    }
   ],
   "source": [
    "a =\"Some sentence\"\n",
    "print(type(a))"
   ]
  },
  {
   "cell_type": "code",
   "execution_count": 11,
   "metadata": {},
   "outputs": [
    {
     "name": "stdout",
     "output_type": "stream",
     "text": [
      "<class 'str'>\n"
     ]
    }
   ],
   "source": [
    "print(type(a))"
   ]
  },
  {
   "cell_type": "code",
   "execution_count": 15,
   "metadata": {},
   "outputs": [
    {
     "name": "stdout",
     "output_type": "stream",
     "text": [
      "a + b = 30.5\n"
     ]
    }
   ],
   "source": [
    "a = 10\n",
    "b = 20.5\n",
    "print(\"a + b =\",a+b)"
   ]
  },
  {
   "cell_type": "code",
   "execution_count": 17,
   "metadata": {},
   "outputs": [
    {
     "name": "stdout",
     "output_type": "stream",
     "text": [
      "<class 'float'>\n"
     ]
    }
   ],
   "source": [
    "print(type(b))"
   ]
  },
  {
   "cell_type": "code",
   "execution_count": 22,
   "metadata": {},
   "outputs": [
    {
     "name": "stdout",
     "output_type": "stream",
     "text": [
      "<class 'str'>\n",
      "this is \n",
      "a paragraph.\n"
     ]
    }
   ],
   "source": [
    "# Multiline String\n",
    "ch = \"\"\"this is \n",
    "a paragraph.\"\"\"\n",
    "print(type(ch))\n",
    "print(ch)"
   ]
  },
  {
   "cell_type": "code",
   "execution_count": 25,
   "metadata": {},
   "outputs": [],
   "source": [
    "rainy = True"
   ]
  },
  {
   "cell_type": "code",
   "execution_count": 29,
   "metadata": {},
   "outputs": [
    {
     "name": "stdout",
     "output_type": "stream",
     "text": [
      "Lets go for boating!\n",
      "Inside the  else block\n",
      "Outside the else block\n"
     ]
    }
   ],
   "source": [
    "# Conditional \n",
    "if rainy:\n",
    "    print(\"Don't go out\")\n",
    "else:\n",
    "    print(\"Lets go for boating!\")\n",
    "    print(\"Inside the  else block\")\n",
    "    \n",
    "print(\"Outside the else block\")"
   ]
  },
  {
   "cell_type": "code",
   "execution_count": 32,
   "metadata": {},
   "outputs": [
    {
     "name": "stdout",
     "output_type": "stream",
     "text": [
      "Enter your Name:Prateek\n",
      "Hi  Prateek\n"
     ]
    }
   ],
   "source": [
    "# Input in Python\n",
    "name = input(\"Enter your Name:\")\n",
    "print(\"Hi \",name)"
   ]
  },
  {
   "cell_type": "code",
   "execution_count": 37,
   "metadata": {},
   "outputs": [
    {
     "name": "stdout",
     "output_type": "stream",
     "text": [
      "50\n",
      "51\n",
      "<class 'int'>\n"
     ]
    }
   ],
   "source": [
    "# Typecasting to Int \n",
    "n = int(input())\n",
    "print(n+1)\n",
    "print(type(n))"
   ]
  },
  {
   "cell_type": "code",
   "execution_count": 38,
   "metadata": {},
   "outputs": [
    {
     "name": "stdout",
     "output_type": "stream",
     "text": [
      "10\n",
      "20\n",
      "10 20\n"
     ]
    }
   ],
   "source": [
    "a = int(input())\n",
    "b = int(input())\n",
    "print(a,b)"
   ]
  },
  {
   "cell_type": "code",
   "execution_count": 48,
   "metadata": {},
   "outputs": [
    {
     "name": "stdout",
     "output_type": "stream",
     "text": [
      "10 20 30 40\n",
      "['10', '20', '30', '40']\n",
      "<class 'str'>\n"
     ]
    },
    {
     "data": {
      "text/plain": [
       "'10 20 30 40 50'"
      ]
     },
     "execution_count": 48,
     "metadata": {},
     "output_type": "execute_result"
    }
   ],
   "source": [
    "numbers = input()\n",
    "print(numbers.split())\n",
    "print(type(numbers))\n",
    "\n",
    "\"10 20 30 40 50\""
   ]
  },
  {
   "cell_type": "code",
   "execution_count": 41,
   "metadata": {},
   "outputs": [
    {
     "name": "stdout",
     "output_type": "stream",
     "text": [
      "14\n"
     ]
    }
   ],
   "source": [
    "print(len(numbers))"
   ]
  },
  {
   "cell_type": "code",
   "execution_count": 43,
   "metadata": {
    "scrolled": true
   },
   "outputs": [
    {
     "name": "stdout",
     "output_type": "stream",
     "text": [
      "It may rain today.\n",
      "['It', 'may', 'rain', 'today.']\n"
     ]
    }
   ],
   "source": [
    "weather = \"It may rain today.\"\n",
    "l = weather.split()\n",
    "print(weather)\n",
    "print(l)"
   ]
  },
  {
   "cell_type": "code",
   "execution_count": 54,
   "metadata": {},
   "outputs": [
    {
     "name": "stdout",
     "output_type": "stream",
     "text": [
      "It\n",
      "may\n",
      "rain\n",
      "today.\n"
     ]
    }
   ],
   "source": [
    "# How to iterate over a list using a While Loop\n",
    "n = len(l)\n",
    "i = 0\n",
    "while i<n:\n",
    "    print(l[i])\n",
    "    i = i + 1"
   ]
  },
  {
   "cell_type": "code",
   "execution_count": 57,
   "metadata": {},
   "outputs": [
    {
     "name": "stdout",
     "output_type": "stream",
     "text": [
      "1\n",
      "3\n",
      "5\n"
     ]
    }
   ],
   "source": [
    "# For Loop range(s,e+1,jump)\n",
    "for i in range(1,6,2):\n",
    "    print(i)"
   ]
  },
  {
   "cell_type": "code",
   "execution_count": 59,
   "metadata": {},
   "outputs": [
    {
     "name": "stdout",
     "output_type": "stream",
     "text": [
      "10,8,6,4,2,0,"
     ]
    }
   ],
   "source": [
    "# 10 ...0 even numbers \n",
    "for i in range(10,-1,-2):\n",
    "    print(i,end=',')"
   ]
  },
  {
   "cell_type": "code",
   "execution_count": 3,
   "metadata": {},
   "outputs": [
    {
     "name": "stdout",
     "output_type": "stream",
     "text": [
      "[1, 2, 3, 4.5, 'Hello', [10, 20, 30]]\n",
      "<class 'list'>\n"
     ]
    }
   ],
   "source": [
    "# lists\n",
    "l = [1,2,3,4.5,\"Hello\",[10,20,30]]\n",
    "print(l)\n",
    "print(type(l))"
   ]
  },
  {
   "cell_type": "code",
   "execution_count": 4,
   "metadata": {},
   "outputs": [
    {
     "name": "stdout",
     "output_type": "stream",
     "text": [
      "[10, 20, 30]\n",
      "1\n",
      "6\n"
     ]
    }
   ],
   "source": [
    "print(l[-1])\n",
    "print(l[0])\n",
    "print(len(l))"
   ]
  },
  {
   "cell_type": "code",
   "execution_count": 5,
   "metadata": {},
   "outputs": [
    {
     "name": "stdout",
     "output_type": "stream",
     "text": [
      "[1, 2, 3, 4.5, 'Hello', [10, 20, 30], 'Dog']\n"
     ]
    }
   ],
   "source": [
    "l.append(\"Dog\")\n",
    "print(l)"
   ]
  },
  {
   "cell_type": "code",
   "execution_count": 72,
   "metadata": {},
   "outputs": [
    {
     "name": "stdout",
     "output_type": "stream",
     "text": [
      "4\n"
     ]
    }
   ],
   "source": [
    "idx = l.index(\"Hello\")\n",
    "print(idx)"
   ]
  },
  {
   "cell_type": "code",
   "execution_count": null,
   "metadata": {},
   "outputs": [],
   "source": []
  },
  {
   "cell_type": "code",
   "execution_count": 73,
   "metadata": {},
   "outputs": [
    {
     "name": "stdout",
     "output_type": "stream",
     "text": [
      "[1, 2, 3, 4.5, 'Cat', 'Hello', [10, 20, 30], 'Dog']\n"
     ]
    }
   ],
   "source": [
    "l.insert(idx,\"Cat\")\n",
    "print(l)"
   ]
  },
  {
   "cell_type": "markdown",
   "metadata": {},
   "source": [
    "### Install Libraries in the meanwhile\n",
    "(Execute via command prompt)\n",
    "\n",
    "```pip install numpy``` \n",
    "\n",
    "```pip install opencv-python```\n",
    "\n",
    "```pip install matplotlib```\n",
    "\n",
    "```pip install pandas```"
   ]
  },
  {
   "cell_type": "code",
   "execution_count": 79,
   "metadata": {},
   "outputs": [
    {
     "name": "stdout",
     "output_type": "stream",
     "text": [
      "[1, 4, 9, 16, 25]\n"
     ]
    }
   ],
   "source": [
    "# List of Squares of Numbers\n",
    "n = 5\n",
    "l = []\n",
    "for i in range(1,n+1):\n",
    "    l.append(i**2)\n",
    "print(l)"
   ]
  },
  {
   "cell_type": "code",
   "execution_count": 81,
   "metadata": {},
   "outputs": [
    {
     "name": "stdout",
     "output_type": "stream",
     "text": [
      "[1, 4, 9, 16, 25]\n"
     ]
    }
   ],
   "source": [
    "# List Comprehension\n",
    "l = [i*i for i in range(1,n+1)]\n",
    "print(l)"
   ]
  },
  {
   "cell_type": "code",
   "execution_count": 2,
   "metadata": {},
   "outputs": [
    {
     "name": "stdout",
     "output_type": "stream",
     "text": [
      "10 20 30 40 \n",
      "[10, 20, 30, 40]\n"
     ]
    }
   ],
   "source": [
    "l = [int(i) for i in input().split()]\n",
    "print(l)"
   ]
  },
  {
   "cell_type": "code",
   "execution_count": 15,
   "metadata": {},
   "outputs": [
    {
     "name": "stdout",
     "output_type": "stream",
     "text": [
      "[1, 2, 3, 4, 5, 6]\n",
      "[1, 2, 3, [4, 5, 6]]\n",
      "[1, 2, 3]\n"
     ]
    }
   ],
   "source": [
    "a = [1,2,3]\n",
    "b = [4,5,6]\n",
    "\n",
    "print(a+b)\n",
    "a.append(b)\n",
    "print(a)\n",
    "print(a[0:3])"
   ]
  },
  {
   "cell_type": "code",
   "execution_count": 23,
   "metadata": {},
   "outputs": [
    {
     "name": "stdout",
     "output_type": "stream",
     "text": [
      "rettub dna daerb\n"
     ]
    }
   ],
   "source": [
    "# Strings\n",
    "food = \"bread and butter\"\n",
    "\n",
    "food[0] # Indexing\n",
    "food = food[ : :-1] #Slicing\n",
    "print(food)"
   ]
  },
  {
   "cell_type": "code",
   "execution_count": 44,
   "metadata": {
    "scrolled": true
   },
   "outputs": [
    {
     "name": "stdout",
     "output_type": "stream",
     "text": [
      "Hello5\n",
      "hello_hello_hello_hello_hello_\n",
      "hello+hello+hello+hello+hello+\n"
     ]
    }
   ],
   "source": [
    "print(\"Hello\" + str(5))\n",
    "s = \"hello_\"*5 # String Concatenation\n",
    "print(s)\n",
    "print(s.replace(\"_\",\"+\"))"
   ]
  },
  {
   "cell_type": "code",
   "execution_count": 62,
   "metadata": {},
   "outputs": [
    {
     "name": "stdout",
     "output_type": "stream",
     "text": [
      "I+am+looking+for+food!\n"
     ]
    }
   ],
   "source": [
    "# Sentence Processing\n",
    "s = \"I am, looking, for, food!\"\n",
    "s = s.replace(\",\",\"\")\n",
    "l  = s.split(\" \")\n",
    "#print(l)\n",
    "q = \"+\".join(l)\n",
    "print(q)"
   ]
  },
  {
   "cell_type": "code",
   "execution_count": 33,
   "metadata": {},
   "outputs": [
    {
     "name": "stdout",
     "output_type": "stream",
     "text": [
      "<class 'tuple'>\n",
      "<class 'list'>\n"
     ]
    }
   ],
   "source": [
    "# Tuples\n",
    "l = [1,2,3,4,5]\n",
    "t = (1,2,3,2,4,5)\n",
    "print(type(t))\n",
    "print(type(l))"
   ]
  },
  {
   "cell_type": "code",
   "execution_count": 34,
   "metadata": {},
   "outputs": [
    {
     "data": {
      "text/plain": [
       "2"
      ]
     },
     "execution_count": 34,
     "metadata": {},
     "output_type": "execute_result"
    }
   ],
   "source": [
    "t.count(2)"
   ]
  },
  {
   "cell_type": "code",
   "execution_count": 79,
   "metadata": {},
   "outputs": [],
   "source": [
    "# Dictionaries \n",
    "# Map Keys to Values\n",
    "d = {\n",
    "    \"dosa\":{\"plain\":60,\"masala\":80},\n",
    "    \"poha\":[10,20],\n",
    "    \"maggi\":25,\n",
    "    \"juice\":30\n",
    "}"
   ]
  },
  {
   "cell_type": "code",
   "execution_count": 93,
   "metadata": {},
   "outputs": [
    {
     "name": "stdout",
     "output_type": "stream",
     "text": [
      "{'dosa': {'plain': 60, 'masala': 80}, 'poha': [10, 20], 'maggi': 25, 'juice': 30, 'coeffe': 100}\n"
     ]
    }
   ],
   "source": [
    "d[\"coeffe\"] = 100\n",
    "print(d)"
   ]
  },
  {
   "cell_type": "code",
   "execution_count": 80,
   "metadata": {},
   "outputs": [
    {
     "data": {
      "text/plain": [
       "80"
      ]
     },
     "execution_count": 80,
     "metadata": {},
     "output_type": "execute_result"
    }
   ],
   "source": [
    "d[\"dosa\"][\"masala\"]"
   ]
  },
  {
   "cell_type": "code",
   "execution_count": 82,
   "metadata": {},
   "outputs": [
    {
     "name": "stdout",
     "output_type": "stream",
     "text": [
      "tea is not avbl\n"
     ]
    }
   ],
   "source": [
    "if d.get('tea') is None:\n",
    "    print(\"tea is not avbl\")\n",
    "else:\n",
    "    print(d['tea'])"
   ]
  },
  {
   "cell_type": "code",
   "execution_count": 83,
   "metadata": {},
   "outputs": [
    {
     "data": {
      "text/plain": [
       "['dosa', 'poha', 'maggi', 'juice']"
      ]
     },
     "execution_count": 83,
     "metadata": {},
     "output_type": "execute_result"
    }
   ],
   "source": [
    "list(d.keys())"
   ]
  },
  {
   "cell_type": "code",
   "execution_count": 84,
   "metadata": {},
   "outputs": [
    {
     "data": {
      "text/plain": [
       "[{'plain': 60, 'masala': 80}, [10, 20], 25, 30]"
      ]
     },
     "execution_count": 84,
     "metadata": {},
     "output_type": "execute_result"
    }
   ],
   "source": [
    "list(d.values())"
   ]
  },
  {
   "cell_type": "code",
   "execution_count": 86,
   "metadata": {},
   "outputs": [
    {
     "name": "stdout",
     "output_type": "stream",
     "text": [
      "dosa {'plain': 60, 'masala': 80}\n",
      "poha [10, 20]\n",
      "maggi 25\n",
      "juice 30\n"
     ]
    }
   ],
   "source": [
    "for k,v in d.items():\n",
    "    print(k,v)"
   ]
  },
  {
   "cell_type": "code",
   "execution_count": 87,
   "metadata": {},
   "outputs": [],
   "source": [
    "countries = [\"India\",\"US\",\"China\",\"SriLanka\"]\n",
    "capitals = [\"Delhi\",\"WashingtonDC\",\"Beijing\",\"Colombo\"]"
   ]
  },
  {
   "cell_type": "code",
   "execution_count": 91,
   "metadata": {},
   "outputs": [],
   "source": [
    "country_captial_map = dict(zip(countries,capitals))"
   ]
  },
  {
   "cell_type": "code",
   "execution_count": 92,
   "metadata": {},
   "outputs": [
    {
     "name": "stdout",
     "output_type": "stream",
     "text": [
      "{'India': 'Delhi', 'US': 'WashingtonDC', 'China': 'Beijing', 'SriLanka': 'Colombo'}\n"
     ]
    }
   ],
   "source": [
    "print(country_captial_map)"
   ]
  },
  {
   "cell_type": "code",
   "execution_count": 96,
   "metadata": {},
   "outputs": [],
   "source": [
    "cc_map = {}\n",
    "\n",
    "for k,v in country_captial_map.items():\n",
    "    cc_map[v] = k"
   ]
  },
  {
   "cell_type": "code",
   "execution_count": 98,
   "metadata": {},
   "outputs": [
    {
     "data": {
      "text/plain": [
       "'India'"
      ]
     },
     "execution_count": 98,
     "metadata": {},
     "output_type": "execute_result"
    }
   ],
   "source": [
    "cc_map['Delhi']"
   ]
  },
  {
   "cell_type": "code",
   "execution_count": 106,
   "metadata": {},
   "outputs": [],
   "source": [
    "# Functions\n",
    "def fun(n):  \n",
    "    for i in range(n):\n",
    "        print(\"Walking step \",i)\n",
    "    "
   ]
  },
  {
   "cell_type": "code",
   "execution_count": 107,
   "metadata": {},
   "outputs": [
    {
     "name": "stdout",
     "output_type": "stream",
     "text": [
      "Walking step  0\n",
      "Walking step  1\n",
      "Walking step  2\n",
      "Walking step  3\n",
      "Walking step  4\n"
     ]
    }
   ],
   "source": [
    "fun(5)"
   ]
  },
  {
   "cell_type": "code",
   "execution_count": null,
   "metadata": {},
   "outputs": [],
   "source": [
    "# Questions for You!\n",
    "1. Print a Star Pattern for given n\n",
    "n = 3\n",
    "# Pattern-1\n",
    "*\n",
    "**\n",
    "***\n",
    "\n",
    "#Pattern-2\n",
    "n = 3\n",
    "  *\n",
    " ***\n",
    "*****"
   ]
  },
  {
   "cell_type": "code",
   "execution_count": 109,
   "metadata": {},
   "outputs": [
    {
     "name": "stdout",
     "output_type": "stream",
     "text": [
      "*\n",
      "**\n",
      "***\n",
      "****\n"
     ]
    }
   ],
   "source": [
    "def star_1(n):\n",
    "    for i in range(1,n+1):\n",
    "        print(\"*\"*i)\n",
    "\n",
    "star_1(4)"
   ]
  },
  {
   "cell_type": "code",
   "execution_count": 111,
   "metadata": {},
   "outputs": [
    {
     "name": "stdout",
     "output_type": "stream",
     "text": [
      "     *\n",
      "    ***\n",
      "   *****\n",
      "  *******\n",
      " *********\n"
     ]
    }
   ],
   "source": [
    "def star_pyramid(n):\n",
    "    for i in range(1,n+1):\n",
    "        #Spaces and stars\n",
    "        print((n-i)*\" \",\"*\"*(2*i-1))\n",
    "\n",
    "star_pyramid(5)"
   ]
  },
  {
   "cell_type": "code",
   "execution_count": null,
   "metadata": {},
   "outputs": [],
   "source": []
  }
 ],
 "metadata": {
  "kernelspec": {
   "display_name": "Python 3",
   "language": "python",
   "name": "python3"
  },
  "language_info": {
   "codemirror_mode": {
    "name": "ipython",
    "version": 3
   },
   "file_extension": ".py",
   "mimetype": "text/x-python",
   "name": "python",
   "nbconvert_exporter": "python",
   "pygments_lexer": "ipython3",
   "version": "3.7.3"
  }
 },
 "nbformat": 4,
 "nbformat_minor": 2
}
